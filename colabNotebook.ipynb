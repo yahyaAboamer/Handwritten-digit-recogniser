{
  "cells": [
    {
      "cell_type": "markdown",
      "metadata": {
        "id": "view-in-github",
        "colab_type": "text"
      },
      "source": [
        "<a href=\"https://colab.research.google.com/github/yahyaAboamer/Handwritten-digit-recogniser/blob/master/colabNotebook.ipynb\" target=\"_parent\"><img src=\"https://colab.research.google.com/assets/colab-badge.svg\" alt=\"Open In Colab\"/></a>"
      ]
    },
    {
      "cell_type": "markdown",
      "source": [
        "## From Biological to Artificial Neurons\n",
        "\n",
        "Artificial Neural Networks (ANNs) were first introduced in 1943 by McCulloch and Pitts, who modeled how biological neurons process information using propositional logic.\n",
        "\n",
        "Key Milestones:\n",
        "\n",
        "- 1940s-1960s: Early enthusiasm faded due to technical limitations.\n",
        "\n",
        "- 1980s: New architectures and training methods revived interest but progress remained slow.\n",
        "\n",
        "- 2000s-Present: Advances in data availability, computational power (GPUs), and improved algorithms led to a breakthrough in deep learning.\n",
        "\n",
        "- ANNs now outperform traditional methods on large, complex problems and continue to drive innovation across industries."
      ],
      "metadata": {
        "id": "0X9mWnoHSbXO"
      }
    },
    {
      "cell_type": "markdown",
      "source": [
        "## The Perceptron\n",
        "\n",
        "The Perceptron is one of the simplest types of artificial neural networks, consisting of a single layer of output nodes connected to a layer of input nodes. Each output node applies a step function to the weighted sum of its inputs. This model can solve linearly separable problems but struggles with non-linear datasets."
      ],
      "metadata": {
        "id": "l--YngUQSe8I"
      }
    },
    {
      "cell_type": "markdown",
      "source": [
        "## Multi-Layer Perceptron and Backpropagation\n",
        "\n",
        "To address the limitations of the single-layer Perceptron, Multi-Layer Perceptrons (MLPs) introduce one or more hidden layers between the input and output layers. Each neuron in these layers typically uses an activation function like the sigmoid or ReLU to introduce non-linearity. The backpropagation algorithm is employed to train MLPs, adjusting weights by propagating the error gradient backward through the network."
      ],
      "metadata": {
        "id": "gkzROAaOShwb"
      }
    },
    {
      "cell_type": "markdown",
      "source": [
        "## Activation Functions\n",
        "\n",
        "Activation functions determine the output of a neuron given an input or set of inputs. Common activation functions include:\n",
        "\n",
        "Sigmoid: Outputs values between 0 and 1, useful for probabilistic interpretations but can suffer from vanishing gradients.\n",
        "\n",
        "Hyperbolic Tangent (tanh): Outputs values between -1 and 1, centering data but still susceptible to vanishing gradients.\n",
        "\n",
        "ReLU (Rectified Linear Unit): Outputs the input directly if positive; otherwise, it outputs zero. It mitigates the vanishing gradient problem and is computationally efficient."
      ],
      "metadata": {
        "id": "2bWMq5zJShpN"
      }
    },
    {
      "cell_type": "markdown",
      "source": [
        "## Classification and Regression MLPs\n",
        "\n",
        "Multi-Layer Perceptrons (MLPs) can handle both classification and regression tasks by adjusting their output layers and activation functions:\n",
        "\n",
        "Classification:\n",
        "\n",
        "- For binary classification, the output layer typically has one neuron with a sigmoid activation function, outputting probabilities between 0 and 1.\n",
        "\n",
        "- For multiclass classification, the output layer has one neuron per class with a softmax activation, producing a probability distribution across classes.\n",
        "\n",
        "Regression:\n",
        "\n",
        "- The output layer has one neuron with no activation function (or a linear activation), which directly outputs a continuous value.\n",
        "\n",
        "Loss Functions:\n",
        "\n",
        "- Binary classification: Binary cross-entropy.\n",
        "\n",
        "- Multiclass classification: Categorical cross-entropy.\n",
        "\n",
        "- Regression: Mean squared error (MSE) or mean absolute error (MAE).\n",
        "\n",
        "The structure of the MLP depends on the task, but the training process (using backpropagation and gradient descent) remains the same."
      ],
      "metadata": {
        "id": "vxHZVLQnShhl"
      }
    },
    {
      "cell_type": "code",
      "source": [
        "import tensorflow as tf\n",
        "import numpy as np\n",
        "import matplotlib.pyplot as plt\n",
        "import pandas as pd"
      ],
      "metadata": {
        "id": "bKDsX1biST5-"
      },
      "execution_count": 2,
      "outputs": []
    },
    {
      "cell_type": "code",
      "execution_count": 3,
      "metadata": {
        "id": "pB52SqeHfg9M",
        "colab": {
          "base_uri": "https://localhost:8080/"
        },
        "outputId": "a6147cc2-cd37-4839-d4b7-0481c0781ddf"
      },
      "outputs": [
        {
          "output_type": "stream",
          "name": "stdout",
          "text": [
            "Downloading data from https://storage.googleapis.com/tensorflow/tf-keras-datasets/mnist.npz\n",
            "\u001b[1m11490434/11490434\u001b[0m \u001b[32m━━━━━━━━━━━━━━━━━━━━\u001b[0m\u001b[37m\u001b[0m \u001b[1m0s\u001b[0m 0us/step\n"
          ]
        }
      ],
      "source": [
        "# Load MNIST dataset\n",
        "(X_train_full, y_train_full), (X_test, y_test) = tf.keras.datasets.mnist.load_data()"
      ]
    },
    {
      "cell_type": "code",
      "execution_count": 4,
      "metadata": {
        "id": "-pXwn2xBv5WH"
      },
      "outputs": [],
      "source": [
        "# Split into training and validation sets\n",
        "X_train, y_train = X_train_full[:-5000], y_train_full[:-5000]\n",
        "X_valid, y_valid = X_train_full[-5000:], y_train_full[-5000:]\n",
        "\n",
        "# Normalize pixel values\n",
        "X_train, X_valid, X_test = X_train / 255., X_valid / 255., X_test / 255."
      ]
    },
    {
      "cell_type": "code",
      "execution_count": 5,
      "metadata": {
        "id": "Tu52qRjKwGJH"
      },
      "outputs": [],
      "source": [
        "# Class names digits 0-9\n",
        "class_names = [str(i) for i in range(10)]"
      ]
    },
    {
      "cell_type": "code",
      "execution_count": 6,
      "metadata": {
        "colab": {
          "base_uri": "https://localhost:8080/",
          "height": 36
        },
        "id": "6D2hc6ENwIOa",
        "outputId": "464e21c8-1342-496f-ed35-04123ba714a2"
      },
      "outputs": [
        {
          "output_type": "execute_result",
          "data": {
            "text/plain": [
              "'5'"
            ],
            "application/vnd.google.colaboratory.intrinsic+json": {
              "type": "string"
            }
          },
          "metadata": {},
          "execution_count": 6
        }
      ],
      "source": [
        "class_names[y_train[0]]"
      ]
    },
    {
      "cell_type": "code",
      "execution_count": 7,
      "metadata": {
        "colab": {
          "base_uri": "https://localhost:8080/"
        },
        "id": "42e4TohvwO5z",
        "outputId": "8d221b74-74d9-4ae6-cbde-99c1b2dfd6b9"
      },
      "outputs": [
        {
          "output_type": "stream",
          "name": "stderr",
          "text": [
            "/usr/local/lib/python3.11/dist-packages/keras/src/layers/reshaping/flatten.py:37: UserWarning: Do not pass an `input_shape`/`input_dim` argument to a layer. When using Sequential models, prefer using an `Input(shape)` object as the first layer in the model instead.\n",
            "  super().__init__(**kwargs)\n"
          ]
        }
      ],
      "source": [
        "# Model architecture\n",
        "model = tf.keras.Sequential([\n",
        "    tf.keras.layers.Flatten(input_shape=[28, 28]),\n",
        "    tf.keras.layers.Dense(300, activation=\"relu\"),\n",
        "    tf.keras.layers.Dense(100, activation=\"relu\"),\n",
        "    tf.keras.layers.Dense(10, activation=\"softmax\")\n",
        "])"
      ]
    },
    {
      "cell_type": "code",
      "execution_count": 8,
      "metadata": {
        "colab": {
          "base_uri": "https://localhost:8080/",
          "height": 257
        },
        "id": "c3EQB_TGxxwf",
        "outputId": "8956a222-eb25-401d-fead-ba87951fd5af"
      },
      "outputs": [
        {
          "output_type": "display_data",
          "data": {
            "text/plain": [
              "\u001b[1mModel: \"sequential\"\u001b[0m\n"
            ],
            "text/html": [
              "<pre style=\"white-space:pre;overflow-x:auto;line-height:normal;font-family:Menlo,'DejaVu Sans Mono',consolas,'Courier New',monospace\"><span style=\"font-weight: bold\">Model: \"sequential\"</span>\n",
              "</pre>\n"
            ]
          },
          "metadata": {}
        },
        {
          "output_type": "display_data",
          "data": {
            "text/plain": [
              "┏━━━━━━━━━━━━━━━━━━━━━━━━━━━━━━━━━━━━━━┳━━━━━━━━━━━━━━━━━━━━━━━━━━━━━┳━━━━━━━━━━━━━━━━━┓\n",
              "┃\u001b[1m \u001b[0m\u001b[1mLayer (type)                        \u001b[0m\u001b[1m \u001b[0m┃\u001b[1m \u001b[0m\u001b[1mOutput Shape               \u001b[0m\u001b[1m \u001b[0m┃\u001b[1m \u001b[0m\u001b[1m        Param #\u001b[0m\u001b[1m \u001b[0m┃\n",
              "┡━━━━━━━━━━━━━━━━━━━━━━━━━━━━━━━━━━━━━━╇━━━━━━━━━━━━━━━━━━━━━━━━━━━━━╇━━━━━━━━━━━━━━━━━┩\n",
              "│ flatten (\u001b[38;5;33mFlatten\u001b[0m)                    │ (\u001b[38;5;45mNone\u001b[0m, \u001b[38;5;34m784\u001b[0m)                 │               \u001b[38;5;34m0\u001b[0m │\n",
              "├──────────────────────────────────────┼─────────────────────────────┼─────────────────┤\n",
              "│ dense (\u001b[38;5;33mDense\u001b[0m)                        │ (\u001b[38;5;45mNone\u001b[0m, \u001b[38;5;34m300\u001b[0m)                 │         \u001b[38;5;34m235,500\u001b[0m │\n",
              "├──────────────────────────────────────┼─────────────────────────────┼─────────────────┤\n",
              "│ dense_1 (\u001b[38;5;33mDense\u001b[0m)                      │ (\u001b[38;5;45mNone\u001b[0m, \u001b[38;5;34m100\u001b[0m)                 │          \u001b[38;5;34m30,100\u001b[0m │\n",
              "├──────────────────────────────────────┼─────────────────────────────┼─────────────────┤\n",
              "│ dense_2 (\u001b[38;5;33mDense\u001b[0m)                      │ (\u001b[38;5;45mNone\u001b[0m, \u001b[38;5;34m10\u001b[0m)                  │           \u001b[38;5;34m1,010\u001b[0m │\n",
              "└──────────────────────────────────────┴─────────────────────────────┴─────────────────┘\n"
            ],
            "text/html": [
              "<pre style=\"white-space:pre;overflow-x:auto;line-height:normal;font-family:Menlo,'DejaVu Sans Mono',consolas,'Courier New',monospace\">┏━━━━━━━━━━━━━━━━━━━━━━━━━━━━━━━━━━━━━━┳━━━━━━━━━━━━━━━━━━━━━━━━━━━━━┳━━━━━━━━━━━━━━━━━┓\n",
              "┃<span style=\"font-weight: bold\"> Layer (type)                         </span>┃<span style=\"font-weight: bold\"> Output Shape                </span>┃<span style=\"font-weight: bold\">         Param # </span>┃\n",
              "┡━━━━━━━━━━━━━━━━━━━━━━━━━━━━━━━━━━━━━━╇━━━━━━━━━━━━━━━━━━━━━━━━━━━━━╇━━━━━━━━━━━━━━━━━┩\n",
              "│ flatten (<span style=\"color: #0087ff; text-decoration-color: #0087ff\">Flatten</span>)                    │ (<span style=\"color: #00d7ff; text-decoration-color: #00d7ff\">None</span>, <span style=\"color: #00af00; text-decoration-color: #00af00\">784</span>)                 │               <span style=\"color: #00af00; text-decoration-color: #00af00\">0</span> │\n",
              "├──────────────────────────────────────┼─────────────────────────────┼─────────────────┤\n",
              "│ dense (<span style=\"color: #0087ff; text-decoration-color: #0087ff\">Dense</span>)                        │ (<span style=\"color: #00d7ff; text-decoration-color: #00d7ff\">None</span>, <span style=\"color: #00af00; text-decoration-color: #00af00\">300</span>)                 │         <span style=\"color: #00af00; text-decoration-color: #00af00\">235,500</span> │\n",
              "├──────────────────────────────────────┼─────────────────────────────┼─────────────────┤\n",
              "│ dense_1 (<span style=\"color: #0087ff; text-decoration-color: #0087ff\">Dense</span>)                      │ (<span style=\"color: #00d7ff; text-decoration-color: #00d7ff\">None</span>, <span style=\"color: #00af00; text-decoration-color: #00af00\">100</span>)                 │          <span style=\"color: #00af00; text-decoration-color: #00af00\">30,100</span> │\n",
              "├──────────────────────────────────────┼─────────────────────────────┼─────────────────┤\n",
              "│ dense_2 (<span style=\"color: #0087ff; text-decoration-color: #0087ff\">Dense</span>)                      │ (<span style=\"color: #00d7ff; text-decoration-color: #00d7ff\">None</span>, <span style=\"color: #00af00; text-decoration-color: #00af00\">10</span>)                  │           <span style=\"color: #00af00; text-decoration-color: #00af00\">1,010</span> │\n",
              "└──────────────────────────────────────┴─────────────────────────────┴─────────────────┘\n",
              "</pre>\n"
            ]
          },
          "metadata": {}
        },
        {
          "output_type": "display_data",
          "data": {
            "text/plain": [
              "\u001b[1m Total params: \u001b[0m\u001b[38;5;34m266,610\u001b[0m (1.02 MB)\n"
            ],
            "text/html": [
              "<pre style=\"white-space:pre;overflow-x:auto;line-height:normal;font-family:Menlo,'DejaVu Sans Mono',consolas,'Courier New',monospace\"><span style=\"font-weight: bold\"> Total params: </span><span style=\"color: #00af00; text-decoration-color: #00af00\">266,610</span> (1.02 MB)\n",
              "</pre>\n"
            ]
          },
          "metadata": {}
        },
        {
          "output_type": "display_data",
          "data": {
            "text/plain": [
              "\u001b[1m Trainable params: \u001b[0m\u001b[38;5;34m266,610\u001b[0m (1.02 MB)\n"
            ],
            "text/html": [
              "<pre style=\"white-space:pre;overflow-x:auto;line-height:normal;font-family:Menlo,'DejaVu Sans Mono',consolas,'Courier New',monospace\"><span style=\"font-weight: bold\"> Trainable params: </span><span style=\"color: #00af00; text-decoration-color: #00af00\">266,610</span> (1.02 MB)\n",
              "</pre>\n"
            ]
          },
          "metadata": {}
        },
        {
          "output_type": "display_data",
          "data": {
            "text/plain": [
              "\u001b[1m Non-trainable params: \u001b[0m\u001b[38;5;34m0\u001b[0m (0.00 B)\n"
            ],
            "text/html": [
              "<pre style=\"white-space:pre;overflow-x:auto;line-height:normal;font-family:Menlo,'DejaVu Sans Mono',consolas,'Courier New',monospace\"><span style=\"font-weight: bold\"> Non-trainable params: </span><span style=\"color: #00af00; text-decoration-color: #00af00\">0</span> (0.00 B)\n",
              "</pre>\n"
            ]
          },
          "metadata": {}
        }
      ],
      "source": [
        "model.summary()"
      ]
    },
    {
      "cell_type": "code",
      "execution_count": 9,
      "metadata": {
        "colab": {
          "base_uri": "https://localhost:8080/"
        },
        "id": "oE4-rTUyx0dX",
        "outputId": "c332ea8c-4592-4ff7-e89c-b0c802e281c9"
      },
      "outputs": [
        {
          "output_type": "execute_result",
          "data": {
            "text/plain": [
              "array([[-0.02211644, -0.02516205, -0.06418948, ...,  0.02578536,\n",
              "         0.00123817, -0.06583339],\n",
              "       [ 0.05701774,  0.03460519,  0.03303351, ..., -0.06605414,\n",
              "         0.03471553, -0.06088737],\n",
              "       [-0.01486638,  0.02331463, -0.05086633, ..., -0.06893656,\n",
              "        -0.07110325,  0.0153392 ],\n",
              "       ...,\n",
              "       [ 0.01200736, -0.06476492,  0.02462206, ...,  0.04084093,\n",
              "        -0.00630952, -0.07356752],\n",
              "       [ 0.00610439, -0.04093762,  0.06384042, ...,  0.05523224,\n",
              "        -0.00459742,  0.02785929],\n",
              "       [ 0.06776682, -0.01876339,  0.06733759, ..., -0.01287562,\n",
              "         0.02255538,  0.03889619]], dtype=float32)"
            ]
          },
          "metadata": {},
          "execution_count": 9
        }
      ],
      "source": [
        "# Get weights from first hidden layer\n",
        "hidden1 = model.layers[1]\n",
        "hidden1.name\n",
        "weights, biases = hidden1.get_weights()\n",
        "weights"
      ]
    },
    {
      "cell_type": "code",
      "execution_count": 10,
      "metadata": {
        "id": "Rfy5AVqGzuAU"
      },
      "outputs": [],
      "source": [
        "# Compile model\n",
        "model.compile(loss=\"sparse_categorical_crossentropy\",\n",
        "              optimizer=\"sgd\",\n",
        "              metrics=[\"accuracy\"])"
      ]
    },
    {
      "cell_type": "code",
      "execution_count": 11,
      "metadata": {
        "colab": {
          "base_uri": "https://localhost:8080/"
        },
        "id": "yBUWDAvh0kQa",
        "outputId": "badd37c8-b95c-4220-e903-5b6b349fade2"
      },
      "outputs": [
        {
          "output_type": "stream",
          "name": "stdout",
          "text": [
            "Epoch 1/30\n",
            "\u001b[1m1719/1719\u001b[0m \u001b[32m━━━━━━━━━━━━━━━━━━━━\u001b[0m\u001b[37m\u001b[0m \u001b[1m9s\u001b[0m 5ms/step - accuracy: 0.7257 - loss: 1.0474 - val_accuracy: 0.9348 - val_loss: 0.2545\n",
            "Epoch 2/30\n",
            "\u001b[1m1719/1719\u001b[0m \u001b[32m━━━━━━━━━━━━━━━━━━━━\u001b[0m\u001b[37m\u001b[0m \u001b[1m9s\u001b[0m 5ms/step - accuracy: 0.9116 - loss: 0.3113 - val_accuracy: 0.9452 - val_loss: 0.2015\n",
            "Epoch 3/30\n",
            "\u001b[1m1719/1719\u001b[0m \u001b[32m━━━━━━━━━━━━━━━━━━━━\u001b[0m\u001b[37m\u001b[0m \u001b[1m10s\u001b[0m 5ms/step - accuracy: 0.9274 - loss: 0.2496 - val_accuracy: 0.9524 - val_loss: 0.1731\n",
            "Epoch 4/30\n",
            "\u001b[1m1719/1719\u001b[0m \u001b[32m━━━━━━━━━━━━━━━━━━━━\u001b[0m\u001b[37m\u001b[0m \u001b[1m9s\u001b[0m 5ms/step - accuracy: 0.9397 - loss: 0.2139 - val_accuracy: 0.9592 - val_loss: 0.1488\n",
            "Epoch 5/30\n",
            "\u001b[1m1719/1719\u001b[0m \u001b[32m━━━━━━━━━━━━━━━━━━━━\u001b[0m\u001b[37m\u001b[0m \u001b[1m8s\u001b[0m 5ms/step - accuracy: 0.9477 - loss: 0.1812 - val_accuracy: 0.9624 - val_loss: 0.1364\n",
            "Epoch 6/30\n",
            "\u001b[1m1719/1719\u001b[0m \u001b[32m━━━━━━━━━━━━━━━━━━━━\u001b[0m\u001b[37m\u001b[0m \u001b[1m11s\u001b[0m 5ms/step - accuracy: 0.9543 - loss: 0.1615 - val_accuracy: 0.9672 - val_loss: 0.1236\n",
            "Epoch 7/30\n",
            "\u001b[1m1719/1719\u001b[0m \u001b[32m━━━━━━━━━━━━━━━━━━━━\u001b[0m\u001b[37m\u001b[0m \u001b[1m10s\u001b[0m 5ms/step - accuracy: 0.9574 - loss: 0.1492 - val_accuracy: 0.9678 - val_loss: 0.1212\n",
            "Epoch 8/30\n",
            "\u001b[1m1719/1719\u001b[0m \u001b[32m━━━━━━━━━━━━━━━━━━━━\u001b[0m\u001b[37m\u001b[0m \u001b[1m10s\u001b[0m 5ms/step - accuracy: 0.9632 - loss: 0.1298 - val_accuracy: 0.9710 - val_loss: 0.1065\n",
            "Epoch 9/30\n",
            "\u001b[1m1719/1719\u001b[0m \u001b[32m━━━━━━━━━━━━━━━━━━━━\u001b[0m\u001b[37m\u001b[0m \u001b[1m8s\u001b[0m 4ms/step - accuracy: 0.9667 - loss: 0.1170 - val_accuracy: 0.9710 - val_loss: 0.1005\n",
            "Epoch 10/30\n",
            "\u001b[1m1719/1719\u001b[0m \u001b[32m━━━━━━━━━━━━━━━━━━━━\u001b[0m\u001b[37m\u001b[0m \u001b[1m9s\u001b[0m 5ms/step - accuracy: 0.9687 - loss: 0.1099 - val_accuracy: 0.9740 - val_loss: 0.0960\n",
            "Epoch 11/30\n",
            "\u001b[1m1719/1719\u001b[0m \u001b[32m━━━━━━━━━━━━━━━━━━━━\u001b[0m\u001b[37m\u001b[0m \u001b[1m9s\u001b[0m 5ms/step - accuracy: 0.9727 - loss: 0.0985 - val_accuracy: 0.9766 - val_loss: 0.0913\n",
            "Epoch 12/30\n",
            "\u001b[1m1719/1719\u001b[0m \u001b[32m━━━━━━━━━━━━━━━━━━━━\u001b[0m\u001b[37m\u001b[0m \u001b[1m9s\u001b[0m 4ms/step - accuracy: 0.9754 - loss: 0.0883 - val_accuracy: 0.9754 - val_loss: 0.0871\n",
            "Epoch 13/30\n",
            "\u001b[1m1719/1719\u001b[0m \u001b[32m━━━━━━━━━━━━━━━━━━━━\u001b[0m\u001b[37m\u001b[0m \u001b[1m9s\u001b[0m 5ms/step - accuracy: 0.9776 - loss: 0.0814 - val_accuracy: 0.9772 - val_loss: 0.0889\n",
            "Epoch 14/30\n",
            "\u001b[1m1719/1719\u001b[0m \u001b[32m━━━━━━━━━━━━━━━━━━━━\u001b[0m\u001b[37m\u001b[0m \u001b[1m11s\u001b[0m 5ms/step - accuracy: 0.9785 - loss: 0.0763 - val_accuracy: 0.9770 - val_loss: 0.0837\n",
            "Epoch 15/30\n",
            "\u001b[1m1719/1719\u001b[0m \u001b[32m━━━━━━━━━━━━━━━━━━━━\u001b[0m\u001b[37m\u001b[0m \u001b[1m8s\u001b[0m 4ms/step - accuracy: 0.9804 - loss: 0.0713 - val_accuracy: 0.9778 - val_loss: 0.0812\n",
            "Epoch 16/30\n",
            "\u001b[1m1719/1719\u001b[0m \u001b[32m━━━━━━━━━━━━━━━━━━━━\u001b[0m\u001b[37m\u001b[0m \u001b[1m11s\u001b[0m 5ms/step - accuracy: 0.9813 - loss: 0.0680 - val_accuracy: 0.9784 - val_loss: 0.0769\n",
            "Epoch 17/30\n",
            "\u001b[1m1719/1719\u001b[0m \u001b[32m━━━━━━━━━━━━━━━━━━━━\u001b[0m\u001b[37m\u001b[0m \u001b[1m8s\u001b[0m 5ms/step - accuracy: 0.9830 - loss: 0.0617 - val_accuracy: 0.9776 - val_loss: 0.0781\n",
            "Epoch 18/30\n",
            "\u001b[1m1719/1719\u001b[0m \u001b[32m━━━━━━━━━━━━━━━━━━━━\u001b[0m\u001b[37m\u001b[0m \u001b[1m9s\u001b[0m 5ms/step - accuracy: 0.9851 - loss: 0.0557 - val_accuracy: 0.9804 - val_loss: 0.0726\n",
            "Epoch 19/30\n",
            "\u001b[1m1719/1719\u001b[0m \u001b[32m━━━━━━━━━━━━━━━━━━━━\u001b[0m\u001b[37m\u001b[0m \u001b[1m9s\u001b[0m 4ms/step - accuracy: 0.9857 - loss: 0.0545 - val_accuracy: 0.9808 - val_loss: 0.0729\n",
            "Epoch 20/30\n",
            "\u001b[1m1719/1719\u001b[0m \u001b[32m━━━━━━━━━━━━━━━━━━━━\u001b[0m\u001b[37m\u001b[0m \u001b[1m9s\u001b[0m 5ms/step - accuracy: 0.9850 - loss: 0.0554 - val_accuracy: 0.9782 - val_loss: 0.0771\n",
            "Epoch 21/30\n",
            "\u001b[1m1719/1719\u001b[0m \u001b[32m━━━━━━━━━━━━━━━━━━━━\u001b[0m\u001b[37m\u001b[0m \u001b[1m10s\u001b[0m 5ms/step - accuracy: 0.9868 - loss: 0.0479 - val_accuracy: 0.9812 - val_loss: 0.0731\n",
            "Epoch 22/30\n",
            "\u001b[1m1719/1719\u001b[0m \u001b[32m━━━━━━━━━━━━━━━━━━━━\u001b[0m\u001b[37m\u001b[0m \u001b[1m11s\u001b[0m 5ms/step - accuracy: 0.9888 - loss: 0.0432 - val_accuracy: 0.9810 - val_loss: 0.0697\n",
            "Epoch 23/30\n",
            "\u001b[1m1719/1719\u001b[0m \u001b[32m━━━━━━━━━━━━━━━━━━━━\u001b[0m\u001b[37m\u001b[0m \u001b[1m8s\u001b[0m 4ms/step - accuracy: 0.9897 - loss: 0.0418 - val_accuracy: 0.9806 - val_loss: 0.0707\n",
            "Epoch 24/30\n",
            "\u001b[1m1719/1719\u001b[0m \u001b[32m━━━━━━━━━━━━━━━━━━━━\u001b[0m\u001b[37m\u001b[0m \u001b[1m10s\u001b[0m 5ms/step - accuracy: 0.9908 - loss: 0.0371 - val_accuracy: 0.9802 - val_loss: 0.0700\n",
            "Epoch 25/30\n",
            "\u001b[1m1719/1719\u001b[0m \u001b[32m━━━━━━━━━━━━━━━━━━━━\u001b[0m\u001b[37m\u001b[0m \u001b[1m8s\u001b[0m 5ms/step - accuracy: 0.9917 - loss: 0.0351 - val_accuracy: 0.9816 - val_loss: 0.0679\n",
            "Epoch 26/30\n",
            "\u001b[1m1719/1719\u001b[0m \u001b[32m━━━━━━━━━━━━━━━━━━━━\u001b[0m\u001b[37m\u001b[0m \u001b[1m11s\u001b[0m 5ms/step - accuracy: 0.9911 - loss: 0.0361 - val_accuracy: 0.9808 - val_loss: 0.0691\n",
            "Epoch 27/30\n",
            "\u001b[1m1719/1719\u001b[0m \u001b[32m━━━━━━━━━━━━━━━━━━━━\u001b[0m\u001b[37m\u001b[0m \u001b[1m9s\u001b[0m 5ms/step - accuracy: 0.9922 - loss: 0.0334 - val_accuracy: 0.9810 - val_loss: 0.0686\n",
            "Epoch 28/30\n",
            "\u001b[1m1719/1719\u001b[0m \u001b[32m━━━━━━━━━━━━━━━━━━━━\u001b[0m\u001b[37m\u001b[0m \u001b[1m9s\u001b[0m 4ms/step - accuracy: 0.9928 - loss: 0.0312 - val_accuracy: 0.9822 - val_loss: 0.0661\n",
            "Epoch 29/30\n",
            "\u001b[1m1719/1719\u001b[0m \u001b[32m━━━━━━━━━━━━━━━━━━━━\u001b[0m\u001b[37m\u001b[0m \u001b[1m11s\u001b[0m 5ms/step - accuracy: 0.9933 - loss: 0.0288 - val_accuracy: 0.9818 - val_loss: 0.0661\n",
            "Epoch 30/30\n",
            "\u001b[1m1719/1719\u001b[0m \u001b[32m━━━━━━━━━━━━━━━━━━━━\u001b[0m\u001b[37m\u001b[0m \u001b[1m11s\u001b[0m 5ms/step - accuracy: 0.9934 - loss: 0.0282 - val_accuracy: 0.9824 - val_loss: 0.0654\n"
          ]
        }
      ],
      "source": [
        "# Train model\n",
        "history = model.fit(X_train, y_train, epochs=30,\n",
        "                      validation_data=(X_valid, y_valid))"
      ]
    },
    {
      "cell_type": "code",
      "execution_count": 12,
      "metadata": {
        "id": "yd8C613c1Edg",
        "colab": {
          "base_uri": "https://localhost:8080/",
          "height": 470
        },
        "outputId": "593b8f7d-430f-4cb9-a008-9ca793183482"
      },
      "outputs": [
        {
          "output_type": "display_data",
          "data": {
            "text/plain": [
              "<Figure size 800x500 with 1 Axes>"
            ],
            "image/png": "[encoded data removed]"
          },
          "metadata": {}
        }
      ],
      "source": [
        "# Plot training history\n",
        "pd.DataFrame(history.history).plot(\n",
        "    figsize=(8, 5), xlim=[0, 29], ylim=[0, 1], grid=True, xlabel=\"Epoch\",\n",
        "    style=[\"r--\", \"r--.\", \"b-\", \"b-*\"])\n",
        "plt.show()"
      ]
    },
    {
      "cell_type": "code",
      "execution_count": 13,
      "metadata": {
        "id": "fjOzLnby1FRK",
        "colab": {
          "base_uri": "https://localhost:8080/"
        },
        "outputId": "bcb2afd7-40cc-4c98-d4ff-5c78742c9aee"
      },
      "outputs": [
        {
          "output_type": "stream",
          "name": "stdout",
          "text": [
            "\u001b[1m313/313\u001b[0m \u001b[32m━━━━━━━━━━━━━━━━━━━━\u001b[0m\u001b[37m\u001b[0m \u001b[1m1s\u001b[0m 3ms/step - accuracy: 0.9745 - loss: 0.0793\n"
          ]
        },
        {
          "output_type": "execute_result",
          "data": {
            "text/plain": [
              "[0.06875481456518173, 0.9776999950408936]"
            ]
          },
          "metadata": {},
          "execution_count": 13
        }
      ],
      "source": [
        "# Evaluate model on test set\n",
        "model.evaluate(X_test, y_test)"
      ]
    },
    {
      "cell_type": "code",
      "execution_count": 14,
      "metadata": {
        "colab": {
          "base_uri": "https://localhost:8080/"
        },
        "id": "DZK49fHs1JZr",
        "outputId": "18b0812d-ab2b-40f9-d330-9387a914f40a"
      },
      "outputs": [
        {
          "output_type": "stream",
          "name": "stdout",
          "text": [
            "\u001b[1m1/1\u001b[0m \u001b[32m━━━━━━━━━━━━━━━━━━━━\u001b[0m\u001b[37m\u001b[0m \u001b[1m0s\u001b[0m 88ms/step\n"
          ]
        },
        {
          "output_type": "execute_result",
          "data": {
            "text/plain": [
              "array([[0., 0., 0., 0., 0., 0., 0., 1., 0., 0.],\n",
              "       [0., 0., 1., 0., 0., 0., 0., 0., 0., 0.],\n",
              "       [0., 1., 0., 0., 0., 0., 0., 0., 0., 0.]], dtype=float32)"
            ]
          },
          "metadata": {},
          "execution_count": 14
        }
      ],
      "source": [
        "X_new = X_test[:3]\n",
        "y_proba = model.predict(X_new)\n",
        "y_proba.round(2)"
      ]
    },
    {
      "cell_type": "code",
      "execution_count": 15,
      "metadata": {
        "colab": {
          "base_uri": "https://localhost:8080/"
        },
        "id": "RcJHtVV51TXK",
        "outputId": "1ce1093e-bb10-42b4-e1c9-b43cb49a6d68"
      },
      "outputs": [
        {
          "output_type": "execute_result",
          "data": {
            "text/plain": [
              "array([7, 2, 1])"
            ]
          },
          "metadata": {},
          "execution_count": 15
        }
      ],
      "source": [
        "y_pred = y_proba.argmax(axis=-1)\n",
        "y_pred"
      ]
    },
    {
      "cell_type": "code",
      "source": [
        "# Compare predictions with actual labels\n",
        "y_new = y_test[:3]\n",
        "y_new"
      ],
      "metadata": {
        "colab": {
          "base_uri": "https://localhost:8080/"
        },
        "id": "i_ivW5NfABKi",
        "outputId": "fc2fa088-62cf-4462-f278-a1b174ec6466"
      },
      "execution_count": 16,
      "outputs": [
        {
          "output_type": "execute_result",
          "data": {
            "text/plain": [
              "array([7, 2, 1], dtype=uint8)"
            ]
          },
          "metadata": {},
          "execution_count": 16
        }
      ]
    }
  ],
  "metadata": {
    "colab": {
      "provenance": [],
      "authorship_tag": "ABX9TyN7uXISLFn2Fz2cbxybIrau",
      "include_colab_link": true
    },
    "kernelspec": {
      "display_name": "Python 3",
      "name": "python3"
    },
    "language_info": {
      "name": "python"
    }
  },
  "nbformat": 4,
  "nbformat_minor": 0
}